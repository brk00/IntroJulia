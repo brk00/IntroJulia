{
 "metadata": {
  "language": "Julia",
  "name": "",
  "signature": "sha256:6eac125395d60d2831606ed063686018ee221808add8616b75c8ac4644b68c08"
 },
 "nbformat": 3,
 "nbformat_minor": 0,
 "worksheets": [
  {
   "cells": [
    {
     "cell_type": "code",
     "collapsed": false,
     "input": [
      "importall Base"
     ],
     "language": "python",
     "metadata": {},
     "outputs": [],
     "prompt_number": 1
    },
    {
     "cell_type": "heading",
     "level": 1,
     "metadata": {},
     "source": [
      "Criando tipos"
     ]
    },
    {
     "cell_type": "markdown",
     "metadata": {},
     "source": [
      "Em Julia, tipos s\u00e3o como classes em python, com a diferen\u00e7a de que n\u00e3o possuem m\u00e9todos internos. S\u00e3o ent\u00e3o muito mais parecidos com os structs de C."
     ]
    },
    {
     "cell_type": "heading",
     "level": 2,
     "metadata": {},
     "source": [
      "Vetor 2D"
     ]
    },
    {
     "cell_type": "markdown",
     "metadata": {},
     "source": [
      "Podemos definir um tipo imut\u00e1vel (que n\u00e3o pode mudar depois de criado) para representar um vetor em duas dimens\u00f5es:"
     ]
    },
    {
     "cell_type": "code",
     "collapsed": false,
     "input": [
      "immutable Vector2D\n",
      "    x::Float64\n",
      "    y::Float64\n",
      "end"
     ],
     "language": "python",
     "metadata": {},
     "outputs": [],
     "prompt_number": 2
    },
    {
     "cell_type": "markdown",
     "metadata": {},
     "source": [
      "Temos dois campos, representando as coordenadas em x e y. Podemos criar um \"objeto\" deste tipo, fazendo:"
     ]
    },
    {
     "cell_type": "code",
     "collapsed": false,
     "input": [
      "w = Vector2D(2.0, 1.0)"
     ],
     "language": "python",
     "metadata": {},
     "outputs": [
      {
       "metadata": {},
       "output_type": "pyout",
       "prompt_number": 3,
       "text": [
        "Vector2D(2.0,1.0)"
       ]
      }
     ],
     "prompt_number": 3
    },
    {
     "cell_type": "markdown",
     "metadata": {},
     "source": [
      "Podemos acessar os campos de w"
     ]
    },
    {
     "cell_type": "code",
     "collapsed": false,
     "input": [
      "w.x"
     ],
     "language": "python",
     "metadata": {},
     "outputs": [
      {
       "metadata": {},
       "output_type": "pyout",
       "prompt_number": 4,
       "text": [
        "2.0"
       ]
      }
     ],
     "prompt_number": 4
    },
    {
     "cell_type": "markdown",
     "metadata": {},
     "source": [
      "Criamos outro vetor fazendo:"
     ]
    },
    {
     "cell_type": "code",
     "collapsed": false,
     "input": [
      "v = Vector2D(5.0, 10.0)"
     ],
     "language": "python",
     "metadata": {},
     "outputs": [
      {
       "metadata": {},
       "output_type": "pyout",
       "prompt_number": 5,
       "text": [
        "Vector2D(5.0,10.0)"
       ]
      }
     ],
     "prompt_number": 5
    },
    {
     "cell_type": "heading",
     "level": 3,
     "metadata": {},
     "source": [
      "Impress\u00e3o"
     ]
    },
    {
     "cell_type": "markdown",
     "metadata": {},
     "source": [
      "Note que o vetor `v` foi impresso na c\u00e9lula acima, mas sua impress\u00e3o \u00e9 muito feia. Podemos mudar isto, criando um m\u00e9todo `show` para nosso novo tipo. Similarmente, temos m\u00e9todos de `show` para quase todos os tipos padr\u00e3o de Julia. "
     ]
    },
    {
     "cell_type": "code",
     "collapsed": false,
     "input": [
      "show(io::IO, v::Vector2D) = print(io, \"[$(v.x), $(v.y)]\")"
     ],
     "language": "python",
     "metadata": {},
     "outputs": [
      {
       "metadata": {},
       "output_type": "pyout",
       "prompt_number": 6,
       "text": [
        "show (generic function with 85 methods)"
       ]
      }
     ],
     "prompt_number": 6
    },
    {
     "cell_type": "code",
     "collapsed": false,
     "input": [
      "v"
     ],
     "language": "python",
     "metadata": {},
     "outputs": [
      {
       "metadata": {},
       "output_type": "pyout",
       "prompt_number": 7,
       "text": [
        "[5.0, 10.0]"
       ]
      }
     ],
     "prompt_number": 7
    },
    {
     "cell_type": "code",
     "collapsed": false,
     "input": [
      "w"
     ],
     "language": "python",
     "metadata": {},
     "outputs": [
      {
       "metadata": {},
       "output_type": "pyout",
       "prompt_number": 8,
       "text": [
        "[2.0, 1.0]"
       ]
      }
     ],
     "prompt_number": 8
    },
    {
     "cell_type": "heading",
     "level": 3,
     "metadata": {},
     "source": [
      "Opera\u00e7\u00f5es"
     ]
    },
    {
     "cell_type": "markdown",
     "metadata": {},
     "source": [
      "Vetores se somam e podem ser multiplicados por escalares. No entanto, isto ainda n\u00e3o \u00e9 poss\u00edvel:"
     ]
    },
    {
     "cell_type": "code",
     "collapsed": false,
     "input": [
      "v + w"
     ],
     "language": "python",
     "metadata": {},
     "outputs": [
      {
       "ename": "LoadError",
       "evalue": "`+` has no method matching +(::Vector2D, ::Vector2D)\nwhile loading In[9], in expression starting on line 1",
       "output_type": "pyerr",
       "traceback": [
        "`+` has no method matching +(::Vector2D, ::Vector2D)\nwhile loading In[9], in expression starting on line 1",
        ""
       ]
      }
     ],
     "prompt_number": 9
    },
    {
     "cell_type": "markdown",
     "metadata": {},
     "source": [
      "N\u00e3o existe um m\u00e9todo `+` que espere dois vetores. Podemos definir este m\u00e9todo fazendo:"
     ]
    },
    {
     "cell_type": "code",
     "collapsed": false,
     "input": [
      "+(a::Vector2D, b::Vector2D) = Vector2D(a.x + b.x, a.y + b.y)"
     ],
     "language": "python",
     "metadata": {},
     "outputs": [
      {
       "metadata": {},
       "output_type": "pyout",
       "prompt_number": 10,
       "text": [
        "+ (generic function with 118 methods)"
       ]
      }
     ],
     "prompt_number": 10
    },
    {
     "cell_type": "code",
     "collapsed": false,
     "input": [
      "v + w"
     ],
     "language": "python",
     "metadata": {},
     "outputs": [
      {
       "metadata": {},
       "output_type": "pyout",
       "prompt_number": 11,
       "text": [
        "[7.0, 11.0]"
       ]
      }
     ],
     "prompt_number": 11
    },
    {
     "cell_type": "markdown",
     "metadata": {},
     "source": [
      "A multiplica\u00e7\u00e3o \u00e9 definida de forma similar:"
     ]
    },
    {
     "cell_type": "code",
     "collapsed": false,
     "input": [
      "*(v::Vector2D, \u03b1::Number) = Vector2D(\u03b1 * v.x, \u03b1 * v.y)\n",
      "*(\u03b1::Number, v::Vector2D) = v * \u03b1"
     ],
     "language": "python",
     "metadata": {},
     "outputs": [
      {
       "metadata": {},
       "output_type": "pyout",
       "prompt_number": 12,
       "text": [
        "* (generic function with 117 methods)"
       ]
      }
     ],
     "prompt_number": 12
    },
    {
     "cell_type": "code",
     "collapsed": false,
     "input": [
      "2v"
     ],
     "language": "python",
     "metadata": {},
     "outputs": [
      {
       "metadata": {},
       "output_type": "pyout",
       "prompt_number": 13,
       "text": [
        "[10.0, 20.0]"
       ]
      }
     ],
     "prompt_number": 13
    },
    {
     "cell_type": "heading",
     "level": 2,
     "metadata": {},
     "source": [
      "Part\u00edcula"
     ]
    },
    {
     "cell_type": "markdown",
     "metadata": {},
     "source": [
      "Podemos definir uma part\u00edcula por sua posi\u00e7\u00e3o e velocidade:"
     ]
    },
    {
     "cell_type": "code",
     "collapsed": false,
     "input": [
      "type Particle\n",
      "    position::Vector2D\n",
      "    velocity::Vector2D\n",
      "end\n",
      "\n",
      "# Ensinando Julia a imprimir uma part\u00edcula\n",
      "show(io::IO, p::Particle) = print(io, \"pos: $(p.position); vel: $(p.velocity)\")"
     ],
     "language": "python",
     "metadata": {},
     "outputs": [
      {
       "metadata": {},
       "output_type": "pyout",
       "prompt_number": 14,
       "text": [
        "show (generic function with 86 methods)"
       ]
      }
     ],
     "prompt_number": 14
    },
    {
     "cell_type": "markdown",
     "metadata": {},
     "source": [
      "Criamos uma part\u00edcula fazendo:"
     ]
    },
    {
     "cell_type": "code",
     "collapsed": false,
     "input": [
      "p = Particle(v, w)"
     ],
     "language": "python",
     "metadata": {},
     "outputs": [
      {
       "metadata": {},
       "output_type": "pyout",
       "prompt_number": 15,
       "text": [
        "pos: [5.0, 10.0]; vel: [2.0, 1.0]"
       ]
      }
     ],
     "prompt_number": 15
    },
    {
     "cell_type": "raw",
     "metadata": {},
     "source": [
      "Podemos fazer a part\u00edcula se mover com a ajuda de uma fun\u00e7\u00e3o:"
     ]
    },
    {
     "cell_type": "code",
     "collapsed": false,
     "input": [
      "# A part\u00edcula se move em um tempo \u03b4t\n",
      "function move!(p::Particle, \u03b4t::Real)\n",
      "    p.position += p.velocity * \u03b4t\n",
      "end\n",
      "\n",
      "move!(p, 0.1)"
     ],
     "language": "python",
     "metadata": {},
     "outputs": [
      {
       "metadata": {},
       "output_type": "pyout",
       "prompt_number": 16,
       "text": [
        "[5.2, 10.1]"
       ]
      }
     ],
     "prompt_number": 16
    },
    {
     "cell_type": "heading",
     "level": 2,
     "metadata": {},
     "source": [
      "G\u00e1s"
     ]
    },
    {
     "cell_type": "markdown",
     "metadata": {},
     "source": [
      "Um g\u00e1s \u00e9 apenas uma cole\u00e7\u00e3o de part\u00edculas:"
     ]
    },
    {
     "cell_type": "code",
     "collapsed": false,
     "input": [
      "type Gas\n",
      "    particles::Vector{Particle}\n",
      "end\n",
      "\n",
      "# Novo m\u00e9todo para criar um g\u00e1s\n",
      "function Gas(N::Int)\n",
      "    parts = [Particle(Vector2D(rand(2)...), Vector2D(rand(2)...)) for i in 1:N]\n",
      "    return Gas(parts)\n",
      "end\n",
      "\n",
      "# Imprimindo um g\u00e1s\n",
      "function show(io::IO, g::Gas)\n",
      "    for particle in g.particles\n",
      "        println(particle)\n",
      "    end\n",
      "end"
     ],
     "language": "python",
     "metadata": {},
     "outputs": [
      {
       "metadata": {},
       "output_type": "pyout",
       "prompt_number": 17,
       "text": [
        "show (generic function with 87 methods)"
       ]
      }
     ],
     "prompt_number": 17
    },
    {
     "cell_type": "code",
     "collapsed": false,
     "input": [
      "bottle = Gas(10)"
     ],
     "language": "python",
     "metadata": {},
     "outputs": [
      {
       "output_type": "stream",
       "stream": "stdout",
       "text": [
        "pos: [0.6475861372986156, 0.3147382153890981]; vel: [0.24192206340045397, 0.1755011196354952]\n"
       ]
      },
      {
       "metadata": {},
       "output_type": "pyout",
       "prompt_number": 18,
       "text": []
      },
      {
       "output_type": "stream",
       "stream": "stdout",
       "text": [
        "pos: [0.9717735811092119, 0.2640577433648994]; vel: [0.6594893973155316, 0.7384719711746939]\n",
        "pos: [0.412214654620205, 0.7245371761146113]; vel: [0.3653152859848565, 0.28546428771940957]\n",
        "pos: [0.6392208446467909, 0.752450963424901]; vel: [0.6892703361065791, 0.15695833898775535]\n",
        "pos: [0.4764739994784506, 0.4051585282691068]; vel: [0.9551016440740174, 0.5287974167647327]\n",
        "pos: [0.7647504486051031, 0.5625997460741781]; vel: [0.9404085757090326, 0.022902302953403897]\n",
        "pos: [0.2319802165924736, 0.8477233449392945]; vel: [0.6791863065902095, 0.10947462760277982]\n",
        "pos: [0.9739836930265529, 0.6840385563395994]; vel: [0.7993417337938677, 0.44789471081967425]\n",
        "pos: [0.5528693246374528, 0.8247830294474252]; vel: [0.3366629106248227, 0.8612073955191981]\n",
        "pos: [0.665710610596195, 0.28309242881613517]; vel: [0.6287107002220265, 0.4628247536421728]\n"
       ]
      }
     ],
     "prompt_number": 18
    },
    {
     "cell_type": "markdown",
     "metadata": {},
     "source": [
      "Podemos fazer todas as part\u00edculas do g\u00e1s se moverem, adicionando mais um m\u00e9todo `move`:"
     ]
    },
    {
     "cell_type": "code",
     "collapsed": false,
     "input": [
      "function move!(g::Gas, \u03b4t::Real)\n",
      "    for particle in g.particles\n",
      "        move!(particle, \u03b4t)\n",
      "    end\n",
      "end\n",
      "\n",
      "move!(bottle, 0.1)"
     ],
     "language": "python",
     "metadata": {},
     "outputs": [],
     "prompt_number": 19
    },
    {
     "cell_type": "code",
     "collapsed": false,
     "input": [
      "bottle"
     ],
     "language": "python",
     "metadata": {},
     "outputs": [
      {
       "metadata": {},
       "output_type": "pyout",
       "prompt_number": 20,
       "text": []
      },
      {
       "output_type": "stream",
       "stream": "stdout",
       "text": [
        "pos: [0.671778343638661, 0.3322883273526476]; vel: [0.24192206340045397, 0.1755011196354952]\n",
        "pos: [1.037722520840765, 0.3379049404823688]; vel: [0.6594893973155316, 0.7384719711746939]\n",
        "pos: [0.44874618321869064, 0.7530836048865522]; vel: [0.3653152859848565, 0.28546428771940957]\n",
        "pos: [0.7081478782574487, 0.7681467973236765]; vel: [0.6892703361065791, 0.15695833898775535]\n",
        "pos: [0.5719841638858524, 0.45803826994558006]; vel: [0.9551016440740174, 0.5287974167647327]\n",
        "pos: [0.8587913061760064, 0.5648899763695184]; vel: [0.9404085757090326, 0.022902302953403897]\n",
        "pos: [0.2998988472514945, 0.8586708076995725]; vel: [0.6791863065902095, 0.10947462760277982]\n",
        "pos: [1.0539178664059397, 0.7288280274215668]; vel: [0.7993417337938677, 0.44789471081967425]\n",
        "pos: [0.5865356156999351, 0.910903768999345]; vel: [0.3366629106248227, 0.8612073955191981]\n",
        "pos: [0.7285816806183976, 0.3293749041803524]; vel: [0.6287107002220265, 0.4628247536421728]\n"
       ]
      }
     ],
     "prompt_number": 20
    }
   ],
   "metadata": {}
  }
 ]
}